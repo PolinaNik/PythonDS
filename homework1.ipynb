{
 "cells": [
  {
   "cell_type": "markdown",
   "id": "de774769",
   "metadata": {},
   "source": [
    "### Домашняя работа по теме “Вычисления с помощью Numpy”"
   ]
  },
  {
   "cell_type": "markdown",
   "id": "eb99152b",
   "metadata": {},
   "source": [
    "Задание 1."
   ]
  },
  {
   "cell_type": "code",
   "execution_count": 1,
   "id": "56ef8b2b",
   "metadata": {},
   "outputs": [],
   "source": [
    "import numpy as np"
   ]
  },
  {
   "cell_type": "code",
   "execution_count": 2,
   "id": "f8918657",
   "metadata": {},
   "outputs": [
    {
     "data": {
      "text/plain": [
       "array([[ 1,  6],\n",
       "       [ 2,  8],\n",
       "       [ 3, 11],\n",
       "       [ 3, 10],\n",
       "       [ 1,  7]])"
      ]
     },
     "execution_count": 2,
     "metadata": {},
     "output_type": "execute_result"
    }
   ],
   "source": [
    "a = np.array([[1,6], [2,8], [3,11], [3,10], [1,7]]) # исходный массив\n",
    "a"
   ]
  },
  {
   "cell_type": "code",
   "execution_count": 3,
   "id": "5fd8d4d6",
   "metadata": {},
   "outputs": [
    {
     "data": {
      "text/plain": [
       "array([2. , 8.4])"
      ]
     },
     "execution_count": 3,
     "metadata": {},
     "output_type": "execute_result"
    }
   ],
   "source": [
    "mean_a = np.array([a[0:, 0].mean(), a[0:, 1].mean()]) # вычисление среднего значения по каждому столбцу\n",
    "mean_a"
   ]
  },
  {
   "cell_type": "markdown",
   "id": "51f90577",
   "metadata": {},
   "source": [
    "Задание 2."
   ]
  },
  {
   "cell_type": "code",
   "execution_count": 4,
   "id": "3046b169",
   "metadata": {},
   "outputs": [
    {
     "data": {
      "text/plain": [
       "array([[-1. , -2.4],\n",
       "       [ 0. , -0.4],\n",
       "       [ 1. ,  2.6],\n",
       "       [ 1. ,  1.6],\n",
       "       [-1. , -1.4]])"
      ]
     },
     "execution_count": 4,
     "metadata": {},
     "output_type": "execute_result"
    }
   ],
   "source": [
    "a_centered = a - mean_a # отнимаем у каждого признака среднее значение столбца\n",
    "a_centered"
   ]
  },
  {
   "cell_type": "markdown",
   "id": "986a66ed",
   "metadata": {},
   "source": [
    "Задание 3."
   ]
  },
  {
   "cell_type": "code",
   "execution_count": 5,
   "id": "7cf142b9",
   "metadata": {},
   "outputs": [
    {
     "data": {
      "text/plain": [
       "8.0"
      ]
     },
     "execution_count": 5,
     "metadata": {},
     "output_type": "execute_result"
    }
   ],
   "source": [
    "N = a.shape[0] #количество наблюдений\n",
    "a_centered_sp = np.dot(a_centered[0:, 0], a_centered[0:, 1]) # скалярное произведение двух столбцов массива a_centered\n",
    "a_centered_sp"
   ]
  },
  {
   "cell_type": "code",
   "execution_count": 6,
   "id": "65fa66f1",
   "metadata": {},
   "outputs": [
    {
     "data": {
      "text/plain": [
       "2.0"
      ]
     },
     "execution_count": 6,
     "metadata": {},
     "output_type": "execute_result"
    }
   ],
   "source": [
    "res = a_centered_sp / (N-1) # значение ковариации двух признаков\n",
    "res"
   ]
  },
  {
   "cell_type": "markdown",
   "id": "61178c58",
   "metadata": {},
   "source": [
    "Задание 4. "
   ]
  },
  {
   "cell_type": "code",
   "execution_count": 7,
   "id": "7dff12ca",
   "metadata": {},
   "outputs": [
    {
     "data": {
      "text/plain": [
       "2.0"
      ]
     },
     "execution_count": 7,
     "metadata": {},
     "output_type": "execute_result"
    }
   ],
   "source": [
    "another_way = np.cov(a.transpose()) # альтернативный метод нахождения ковариации\n",
    "result = another_way[0,1] # результатом является элемент, находящийся на позиции в первой строке и втором столбце\n",
    "result"
   ]
  },
  {
   "cell_type": "markdown",
   "id": "bb6a1665",
   "metadata": {},
   "source": [
    "### Домашняя работа по теме “Работа с данными в Pandas”"
   ]
  },
  {
   "cell_type": "markdown",
   "id": "46694885",
   "metadata": {},
   "source": [
    "Задание 1."
   ]
  },
  {
   "cell_type": "code",
   "execution_count": 8,
   "id": "599cd057",
   "metadata": {},
   "outputs": [],
   "source": [
    "import pandas as pd"
   ]
  },
  {
   "cell_type": "code",
   "execution_count": 9,
   "id": "846fa8d7",
   "metadata": {},
   "outputs": [
    {
     "name": "stdout",
     "output_type": "stream",
     "text": [
      "   author_id author_name\n",
      "0          1    Тургенев\n",
      "1          2       Чехов\n",
      "2          3  Островский\n",
      "   author_id            book_title  price\n",
      "0          1           Отцы и дети    450\n",
      "1          1                 Рудин    300\n",
      "2          1     Дворянское гнездо    350\n",
      "3          2      Толстый и тонкий    500\n",
      "4          2       Дама с собачкой    450\n",
      "5          3                 Гроза    370\n",
      "6          3  Таланты и поклонники    290\n"
     ]
    }
   ],
   "source": [
    "# создание таблицы \"Авторы\"\n",
    "authors = pd.DataFrame(\n",
    "    {\"author_id\": [1,2,3],\n",
    "    \"author_name\": ['Тургенев', 'Чехов', 'Островский']}\n",
    ")\n",
    "\n",
    "# создание таблицы \"Книги\"\n",
    "books = pd.DataFrame(\n",
    "    {\"author_id\": [1, 1, 1, 2, 2, 3, 3],\n",
    "     \"book_title\": ['Отцы и дети', 'Рудин', 'Дворянское гнездо', 'Толстый и тонкий', 'Дама с собачкой',\n",
    "                    'Гроза', 'Таланты и поклонники'],\n",
    "     \"price\": [450, 300, 350, 500, 450, 370, 290]}\n",
    ")\n",
    "\n",
    "print(authors)\n",
    "print(books)"
   ]
  },
  {
   "cell_type": "markdown",
   "id": "e0728d76",
   "metadata": {},
   "source": [
    "Задание 2."
   ]
  },
  {
   "cell_type": "code",
   "execution_count": 10,
   "id": "0b75c074",
   "metadata": {},
   "outputs": [
    {
     "name": "stdout",
     "output_type": "stream",
     "text": [
      "   author_id author_name            book_title  price\n",
      "0          1    Тургенев           Отцы и дети    450\n",
      "1          1    Тургенев                 Рудин    300\n",
      "2          1    Тургенев     Дворянское гнездо    350\n",
      "3          2       Чехов      Толстый и тонкий    500\n",
      "4          2       Чехов       Дама с собачкой    450\n",
      "5          3  Островский                 Гроза    370\n",
      "6          3  Островский  Таланты и поклонники    290\n"
     ]
    }
   ],
   "source": [
    "# Объединение двух таблиц \"Авторы\" и \"Книги\" по author_id\n",
    "authors_price = pd.merge(authors, books, on=\"author_id\", how=\"inner\")\n",
    "print(authors_price)"
   ]
  },
  {
   "cell_type": "markdown",
   "id": "832e00f0",
   "metadata": {},
   "source": [
    "Задание 3."
   ]
  },
  {
   "cell_type": "code",
   "execution_count": 11,
   "id": "c5958f6d",
   "metadata": {},
   "outputs": [
    {
     "name": "stdout",
     "output_type": "stream",
     "text": [
      "   author_id author_name         book_title  price\n",
      "3          2       Чехов   Толстый и тонкий    500\n",
      "0          1    Тургенев        Отцы и дети    450\n",
      "4          2       Чехов    Дама с собачкой    450\n",
      "5          3  Островский              Гроза    370\n",
      "2          1    Тургенев  Дворянское гнездо    350\n"
     ]
    }
   ],
   "source": [
    "# Нахождение книг по максимальной цене, вывод только 5 книг\n",
    "top5 = authors_price.nlargest(5, \"price\")\n",
    "print(top5)"
   ]
  },
  {
   "cell_type": "markdown",
   "id": "6fb0b210",
   "metadata": {},
   "source": [
    "Задание 4."
   ]
  },
  {
   "cell_type": "code",
   "execution_count": 12,
   "id": "e5e49fb9",
   "metadata": {},
   "outputs": [
    {
     "name": "stdout",
     "output_type": "stream",
     "text": [
      "  author_name  min_price  max_price  mean_price\n",
      "0    Тургенев        300        450  366.666667\n",
      "1       Чехов        450        500  475.000000\n",
      "2  Островский        290        370  330.000000\n"
     ]
    }
   ],
   "source": [
    "# Группировка по author_id\n",
    "groupby =  authors_price.groupby(\"author_id\")\n",
    "\n",
    "# Формирование таблицы, в которой представлен автор, минимальная цена его книги, максимальная и средняя.\n",
    "authors_stat = pd.DataFrame({\n",
    "    \"author_name\": list(authors.values[0:,1]),\n",
    "    \"min_price\": list(groupby[\"price\"].min()),\n",
    "    \"max_price\": list(groupby[\"price\"].max()),\n",
    "    \"mean_price\": list(groupby[\"price\"].mean())\n",
    "\n",
    "})\n",
    "\n",
    "print(authors_stat)"
   ]
  },
  {
   "cell_type": "markdown",
   "id": "4584e018",
   "metadata": {},
   "source": [
    "Задание 5."
   ]
  },
  {
   "cell_type": "code",
   "execution_count": 13,
   "id": "42191614",
   "metadata": {},
   "outputs": [
    {
     "name": "stdout",
     "output_type": "stream",
     "text": [
      "   author_id author_name            book_title  price    cover\n",
      "0          1    Тургенев           Отцы и дети    450  твердая\n",
      "1          1    Тургенев                 Рудин    300   мягкая\n",
      "2          1    Тургенев     Дворянское гнездо    350   мягкая\n",
      "3          2       Чехов      Толстый и тонкий    500  твердая\n",
      "4          2       Чехов       Дама с собачкой    450  твердая\n",
      "5          3  Островский                 Гроза    370   мягкая\n",
      "6          3  Островский  Таланты и поклонники    290   мягкая\n"
     ]
    }
   ],
   "source": [
    "# Добавление дополнительного поля\n",
    "authors_price['cover'] = ['твердая', 'мягкая', 'мягкая', 'твердая', 'твердая', 'мягкая', 'мягкая']\n",
    "print(authors_price)"
   ]
  },
  {
   "cell_type": "code",
   "execution_count": 14,
   "id": "2b9d0a79",
   "metadata": {},
   "outputs": [
    {
     "name": "stdout",
     "output_type": "stream",
     "text": [
      "               max           mean            min        \n",
      "cover       мягкая твердая мягкая твердая мягкая твердая\n",
      "author_name                                             \n",
      "Островский     370       0    330       0    290       0\n",
      "Тургенев       350     450    325     450    300     450\n",
      "Чехов            0     500      0     475      0     450\n"
     ]
    }
   ],
   "source": [
    "# Формирование таблицы с группировкой по имени автора, по типу обложки\n",
    "# и представлении сведений о максимальной, минимальной и средней цене.\n",
    "\n",
    "book_info = pd.pivot_table(authors_price, values='price', index=['author_name'],\n",
    "                    columns=['cover'], aggfunc={'price': [min, max, np.mean]}, fill_value=0)\n",
    "print(book_info)"
   ]
  },
  {
   "cell_type": "code",
   "execution_count": 15,
   "id": "e4eee727",
   "metadata": {},
   "outputs": [
    {
     "name": "stdout",
     "output_type": "stream",
     "text": [
      "               max           mean            min        \n",
      "cover       мягкая твердая мягкая твердая мягкая твердая\n",
      "author_name                                             \n",
      "Островский     370       0    330       0    290       0\n",
      "Тургенев       350     450    325     450    300     450\n",
      "Чехов            0     500      0     475      0     450\n"
     ]
    }
   ],
   "source": [
    "# Сохранение таблицы book_info\n",
    "\n",
    "book_info.to_pickle(\"book_info.pkl\")\n",
    "\n",
    "# Загрузка таблицы из файла\n",
    "\n",
    "book_info2 = pd.read_pickle(\"book_info.pkl\")\n",
    "print(book_info2)"
   ]
  },
  {
   "cell_type": "code",
   "execution_count": null,
   "id": "cc969a51",
   "metadata": {},
   "outputs": [],
   "source": []
  }
 ],
 "metadata": {
  "kernelspec": {
   "display_name": "Python 3",
   "language": "python",
   "name": "python3"
  },
  "language_info": {
   "codemirror_mode": {
    "name": "ipython",
    "version": 3
   },
   "file_extension": ".py",
   "mimetype": "text/x-python",
   "name": "python",
   "nbconvert_exporter": "python",
   "pygments_lexer": "ipython3",
   "version": "3.8.8"
  }
 },
 "nbformat": 4,
 "nbformat_minor": 5
}
